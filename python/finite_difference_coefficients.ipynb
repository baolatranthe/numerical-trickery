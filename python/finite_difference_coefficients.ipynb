{
 "cells": [
  {
   "cell_type": "code",
   "execution_count": 1,
   "id": "8522d44d-063e-460c-92ff-db82d850464d",
   "metadata": {},
   "outputs": [],
   "source": [
    "import math\n",
    "import numpy as np\n",
    "import scipy as sp\n",
    "import time as ti\n",
    "\n",
    "from matplotlib import pyplot as plt\n",
    "\n",
    "%matplotlib inline"
   ]
  },
  {
   "cell_type": "markdown",
   "id": "5001f74d-a689-4ac4-91e1-4d1241127fa5",
   "metadata": {},
   "source": [
    "# Finite Difference"
   ]
  },
  {
   "cell_type": "code",
   "execution_count": 2,
   "id": "cf01e511-1760-4dda-9202-dddea65f8ec4",
   "metadata": {},
   "outputs": [],
   "source": [
    "def diff_coeff(l, m, n):\n",
    "    \n",
    "    \"\"\"\n",
    "    \n",
    "    This function generates the 'n-th' coefficient of a 1-D finite difference\n",
    "    scheme for an arbitrary order 'l' with an offset 'm'. The 'offset' is \n",
    "    defined as the point within the stencil where the approximation for the\n",
    "    derivative is calculated. For instance, a finite difference scheme of an \n",
    "    l-point stencil with m=(l-1)/2 and l is odd, is called a 'central' finite \n",
    "    difference. For the 'forward' and 'backward' difference schemes, m is 0 \n",
    "    and l-1, respectively.\n",
    "    \n",
    "    \"\"\"\n",
    "    \n",
    "    def factorial(k):\n",
    "        if type(k) is not int:\n",
    "            print(\"Invalid input! The function 'factorial' only accepts non-negative integers.\")\n",
    "        elif k < 0:\n",
    "            return math.inf\n",
    "        elif k == 0:\n",
    "            return 1\n",
    "        else:\n",
    "            return k*factorial(k-1)\n",
    "    \n",
    "    coeff = 0\n",
    "    if (m >= l) or (n >= l):\n",
    "        print(\"Invalid inputs! The function 'diff_coeff' requires 0 < m < l and 0 < n < l.\")\n",
    "        return None\n",
    "    elif m != n:\n",
    "        coeff = (-1)**(m+n)/(m-n) * factorial(m)*factorial(l-m-1)/factorial(n)/factorial(l-n-1)\n",
    "    else:\n",
    "        for i in range(l):\n",
    "            if i == m:\n",
    "                continue\n",
    "            else:\n",
    "                coeff += -diff_coeff(l, m, i)\n",
    "    \n",
    "    return coeff"
   ]
  },
  {
   "cell_type": "code",
   "execution_count": 3,
   "id": "a3541fc6",
   "metadata": {},
   "outputs": [],
   "source": [
    "def bounded_diff(M, m=1):\n",
    "    \n",
    "    \"\"\"\n",
    "    \n",
    "    This function generates the difference matrix for a bounded\n",
    "    domain of M grid points. with a difference scheme of order 2m+1.\n",
    "    Suggestion: use xrange with either bound.\n",
    "    \n",
    "    \"\"\"\n",
    "    \n",
    "    matrix = np.zeros((M, M))\n",
    "    l = 2*m+1\n",
    "    \n",
    "    if (M < l) or (type(M) is not int) or (type(m) is not int):\n",
    "        print(\"Invalid inputs! Expecting integers for M and m, where M >= 2m+1.\")\n",
    "        return None\n",
    "    else:\n",
    "        for i in range(M):\n",
    "            for j in range(M):\n",
    "                if (i < m) and (j < l):\n",
    "                    matrix[i, j] = diff_coeff(l, i, j)\n",
    "                elif (M-i <= m) and (M-j <= l):\n",
    "                    matrix[i, j] = diff_coeff(l, i+l-M, j+l-M)\n",
    "                elif np.abs(j-i) <= m:\n",
    "                    matrix[i, j] = diff_coeff(l, m, j-i+m)\n",
    "                else:\n",
    "                    continue\n",
    "    \n",
    "    return matrix"
   ]
  },
  {
   "cell_type": "code",
   "execution_count": 4,
   "id": "30a140e5",
   "metadata": {},
   "outputs": [],
   "source": [
    "def periodic_diff(M, m=1):\n",
    "    \n",
    "    \"\"\"\n",
    "    \n",
    "    This function generates the difference matrix for a periodic\n",
    "    domain of M grid points. with a difference scheme of order 2m+1.\n",
    "    Suggestion: use xrange 'False' bound.\n",
    "    \n",
    "    \"\"\"\n",
    "    \n",
    "    matrix = np.zeros((M, M))\n",
    "    l = 2*m+1\n",
    "    \n",
    "    if (M < l) or (type(M) is not int) or (type(m) is not int):\n",
    "        print(\"Invalid inputs! Expecting integers for M and m, where M >= 2m+1.\")\n",
    "        return None\n",
    "    else:\n",
    "        for i in range(M):\n",
    "            for j in range(M):\n",
    "                if np.abs(j-i) <= m:\n",
    "                    matrix[i, j] = diff_coeff(l, m, j-i+m)\n",
    "                elif M-np.abs(j-i) <= m:\n",
    "                    matrix[i, j] = diff_coeff(l, m, int(np.sign(j-i)*(np.abs(j-i)-M)+m))\n",
    "                else:\n",
    "                    continue\n",
    "    \n",
    "    return matrix"
   ]
  },
  {
   "cell_type": "code",
   "execution_count": 5,
   "id": "e263d1c3-94c7-4466-9894-df19b69d7764",
   "metadata": {},
   "outputs": [],
   "source": [
    "def xrange(i, f, n, bound=True):\n",
    "    \n",
    "    \"\"\"\n",
    "    \n",
    "    \n",
    "    \n",
    "    \"\"\"\n",
    "    if bound:\n",
    "        step_size = (f-i)/(n-1)\n",
    "        init = i\n",
    "    else:\n",
    "        step_size = (f-i)/(n+1)\n",
    "        init = i + step_size\n",
    "        \n",
    "    result = np.zeros(n)\n",
    "    for step in range(n):\n",
    "        result[step] = init + step*step_size\n",
    "    \n",
    "    return result"
   ]
  },
  {
   "cell_type": "code",
   "execution_count": 6,
   "id": "9a7b078c",
   "metadata": {},
   "outputs": [],
   "source": [
    "def osc(x):\n",
    "    return x**2/2"
   ]
  },
  {
   "cell_type": "code",
   "execution_count": 7,
   "id": "2b3a6289",
   "metadata": {},
   "outputs": [],
   "source": [
    "def make_ham(bound, potential, dim=1024, order=1):\n",
    "    # Region to solve\n",
    "    X = 2*bound\n",
    "    dX = X/(dim+1)\n",
    "    x = np.linspace(-bound+dX, bound-dX, dim)\n",
    "    \n",
    "    return x"
   ]
  },
  {
   "cell_type": "code",
   "execution_count": null,
   "id": "e9a78106",
   "metadata": {},
   "outputs": [],
   "source": []
  }
 ],
 "metadata": {
  "kernelspec": {
   "display_name": "Python 3 (ipykernel)",
   "language": "python",
   "name": "python3"
  },
  "language_info": {
   "codemirror_mode": {
    "name": "ipython",
    "version": 3
   },
   "file_extension": ".py",
   "mimetype": "text/x-python",
   "name": "python",
   "nbconvert_exporter": "python",
   "pygments_lexer": "ipython3",
   "version": "3.9.12"
  }
 },
 "nbformat": 4,
 "nbformat_minor": 5
}
