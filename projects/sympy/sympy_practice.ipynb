{
 "cells": [
  {
   "cell_type": "code",
   "execution_count": 1,
   "id": "d2538af3",
   "metadata": {},
   "outputs": [],
   "source": [
    "import sympy as smp\n",
    "from sympy import *"
   ]
  },
  {
   "cell_type": "code",
   "execution_count": 8,
   "id": "6f3ee8fc",
   "metadata": {},
   "outputs": [],
   "source": [
    "x, n = smp.symbols('x n')"
   ]
  },
  {
   "cell_type": "code",
   "execution_count": 7,
   "id": "d3dd147c",
   "metadata": {},
   "outputs": [
    {
     "data": {
      "text/latex": [
       "$\\displaystyle 5.07430474972837$"
      ],
      "text/plain": [
       "5.07430474972837"
      ]
     },
     "execution_count": 7,
     "metadata": {},
     "output_type": "execute_result"
    }
   ],
   "source": [
    "smp.integrate(x/smp.gamma(x), (x, 1, smp.oo)).n()"
   ]
  },
  {
   "cell_type": "code",
   "execution_count": 12,
   "id": "1c52701e",
   "metadata": {},
   "outputs": [
    {
     "data": {
      "text/latex": [
       "$\\displaystyle e^{x} - 1$"
      ],
      "text/plain": [
       "exp(x) - 1"
      ]
     },
     "execution_count": 12,
     "metadata": {},
     "output_type": "execute_result"
    }
   ],
   "source": [
    "smp.summation(x**n/smp.factorial(n), (n,1,smp.oo)).simplify()"
   ]
  },
  {
   "cell_type": "code",
   "execution_count": null,
   "id": "700a63af",
   "metadata": {},
   "outputs": [],
   "source": []
  }
 ],
 "metadata": {
  "kernelspec": {
   "display_name": "Python 3 (ipykernel)",
   "language": "python",
   "name": "python3"
  },
  "language_info": {
   "codemirror_mode": {
    "name": "ipython",
    "version": 3
   },
   "file_extension": ".py",
   "mimetype": "text/x-python",
   "name": "python",
   "nbconvert_exporter": "python",
   "pygments_lexer": "ipython3",
   "version": "3.10.4"
  }
 },
 "nbformat": 4,
 "nbformat_minor": 5
}
