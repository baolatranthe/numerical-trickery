{
 "cells": [
  {
   "cell_type": "code",
   "execution_count": 1,
   "id": "279bd271",
   "metadata": {},
   "outputs": [],
   "source": [
    "import numpy as np\n",
    "import scipy as sp\n",
    "import fidi as fd\n",
    "\n",
    "import matplotlib\n",
    "from matplotlib import pyplot as plt\n",
    "from matplotlib import animation as anim\n",
    "\n",
    "import ipywidgets as widgets\n",
    "from ipywidgets import interact, interactive, fixed, interact_manual\n",
    "\n",
    "from scipy import sparse\n",
    "from scipy.sparse.linalg import eigsh\n",
    "from IPython.display import display, HTML, Image\n",
    "from tqdm.notebook import tqdm\n",
    "\n",
    "matplotlib.rcParams['animation.embed_limit'] = 7*2**23\n",
    "%matplotlib notebook\n",
    "\n",
    "pi = np.pi"
   ]
  },
  {
   "cell_type": "code",
   "execution_count": null,
   "id": "3b1c0864",
   "metadata": {},
   "outputs": [],
   "source": [
    "class Difference():\n",
    "    '''\n",
    "    Difference class\n",
    "    \n",
    "    '''\n",
    "    def __init__(self, npoints, dimensions=1):\n",
    "        self.npoints = npoints\n",
    "        self.dimensions = dimensions\n",
    "    \n",
    "    def space(self, periodic=False):\n",
    "        if periodic:\n",
    "            for dim in range(dim)"
   ]
  },
  {
   "cell_type": "code",
   "execution_count": null,
   "id": "fe992dbb",
   "metadata": {},
   "outputs": [],
   "source": []
  }
 ],
 "metadata": {
  "kernelspec": {
   "display_name": "Python 3 (ipykernel)",
   "language": "python",
   "name": "python3"
  },
  "language_info": {
   "codemirror_mode": {
    "name": "ipython",
    "version": 3
   },
   "file_extension": ".py",
   "mimetype": "text/x-python",
   "name": "python",
   "nbconvert_exporter": "python",
   "pygments_lexer": "ipython3",
   "version": "3.10.4"
  }
 },
 "nbformat": 4,
 "nbformat_minor": 5
}
